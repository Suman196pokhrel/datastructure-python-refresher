{
 "cells": [
  {
   "cell_type": "code",
   "execution_count": 10,
   "metadata": {},
   "outputs": [],
   "source": [
    "from collections import deque"
   ]
  },
  {
   "cell_type": "code",
   "execution_count": 42,
   "metadata": {},
   "outputs": [],
   "source": [
    "class Queue:\n",
    "    def __init__(self):\n",
    "        self.buffer = deque()\n",
    "\n",
    "    def enqueue(self,*args):\n",
    "        if len(args) ==1:\n",
    "            self.buffer.appendleft(args)   \n",
    "        else:\n",
    "            for elem in args:\n",
    "                self.buffer.appendleft(elem)   \n",
    "\n",
    "\n",
    "    def __str__(self):\n",
    "        return str(self.buffer)\n",
    "    \n",
    "    def deque(self):\n",
    "        return self.buffer.pop()\n",
    "\n",
    "    def is_empty(self):\n",
    "        return len(deque)==0\n",
    "\n",
    "    def size(self):\n",
    "        return len(self.buffer)"
   ]
  },
  {
   "cell_type": "code",
   "execution_count": 44,
   "metadata": {},
   "outputs": [
    {
     "name": "stdout",
     "output_type": "stream",
     "text": [
      "deque(['after_after_suman', 'after_suman', 'Suman'])\n"
     ]
    }
   ],
   "source": [
    "myQueue = Queue()\n",
    "myQueue.enqueue('Suman','after_suman','after_after_suman')\n",
    "print(myQueue)"
   ]
  },
  {
   "cell_type": "code",
   "execution_count": 46,
   "metadata": {},
   "outputs": [
    {
     "data": {
      "text/plain": [
       "'Suman'"
      ]
     },
     "execution_count": 46,
     "metadata": {},
     "output_type": "execute_result"
    }
   ],
   "source": [
    "# now From concept of FIFO suman should come first because he entered first\n",
    "myQueue.deque()"
   ]
  },
  {
   "cell_type": "code",
   "execution_count": 48,
   "metadata": {},
   "outputs": [
    {
     "name": "stdout",
     "output_type": "stream",
     "text": [
      "deque(['after_after_suman', 'after_suman'])\n"
     ]
    }
   ],
   "source": [
    "print(myQueue)"
   ]
  }
 ],
 "metadata": {
  "kernelspec": {
   "display_name": "Python 3.10.5 64-bit",
   "language": "python",
   "name": "python3"
  },
  "language_info": {
   "codemirror_mode": {
    "name": "ipython",
    "version": 3
   },
   "file_extension": ".py",
   "mimetype": "text/x-python",
   "name": "python",
   "nbconvert_exporter": "python",
   "pygments_lexer": "ipython3",
   "version": "3.10.5"
  },
  "orig_nbformat": 4,
  "vscode": {
   "interpreter": {
    "hash": "726dcbeb44faf9aaff53169e0b8814e684e410af3bfc18d756662af215d56e71"
   }
  }
 },
 "nbformat": 4,
 "nbformat_minor": 2
}
